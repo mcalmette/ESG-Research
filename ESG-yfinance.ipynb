{
 "cells": [
  {
   "cell_type": "markdown",
   "metadata": {},
   "source": [
    "## ESG Research \n",
    "### Yfinance, Pandas, NumPy\n",
    "\n",
    "\n",
    "# Installation\n",
    "* pip install pandas\n",
    "* pip install numpy\n",
    "* pip3 install tqdm\n",
    "* pip3 install seaborn\n",
    "* pip install yfinance | pip3 install yfinance\n",
    "* pip install git+https://github.com/rodrigobercini/yfinance.git\n"
   ]
  },
  {
   "cell_type": "code",
   "execution_count": 37,
   "metadata": {},
   "outputs": [],
   "source": [
    "#Import necessary libraries\n",
    "import pandas as pd\n",
    "import numpy as np\n",
    "import yfinance as yf\n",
    "from pandas import Series, DataFrame\n",
    "from pandas.tseries import offsets\n",
    "import csv\n",
    "import datetime\n",
    "import csv\n",
    "from csv import writer\n",
    "from tqdm import tqdm\n",
    "import os\n",
    "import time\n",
    "from yahoofinancials import YahooFinancials\n",
    "from sys import platform\n",
    "\n",
    "dt = datetime.datetime.today()\n",
    "\n",
    "YEAR = dt.year\n",
    "MONTH = dt.month\n",
    "CURRENT_CSV_FILE = bool\n",
    "\n",
    "if platform == \"linux\" or platform == \"linux2\":\n",
    "       op_sys = \"linux\"\n",
    "elif platform == \"darwin\":\n",
    "       op_sys = \"Mac\"\n",
    "elif platform == \"win32\":\n",
    "       op_sys = \"Windows\"\n",
    "    \n",
    "ESG_COLUMNS = {'palmOil', 'controversialWeapons', 'gambling', 'socialScore', 'nuclear',\n",
    "       'furLeather', 'alcoholic', 'gmo', 'catholic', 'socialPercentile',\n",
    "       'peerCount', 'governanceScore', 'environmentPercentile',\n",
    "       'animalTesting', 'tobacco', 'totalEsg', 'highestControversy',\n",
    "       'esgPerformance', 'coal', 'pesticides', 'adult', 'percentile',\n",
    "       'peerGroup', 'smallArms', 'environmentScore', 'governancePercentile',\n",
    "       'militaryContract', \n",
    "       #'Stock'\n",
    "}\n",
    "\n",
    "ALL_COLUMNS = {'palmOil', 'peerCount', 'environmentScore', 'militaryContract',\n",
    "       'esgPerformance', 'coal', 'peerGroup', 'furLeather', 'gambling',\n",
    "       'animalTesting', 'catholic', 'nuclear', 'totalEsg', 'adult',\n",
    "       'environmentPercentile', 'highestControversy', 'socialScore',\n",
    "       'percentile', 'alcoholic', 'socialPercentile', 'pesticides',\n",
    "       'governancePercentile', 'controversialWeapons', 'gmo', 'smallArms',\n",
    "       'tobacco', 'governanceScore', 'Stock Ticker', 'Sector', 'Name'\n",
    "}\n",
    "\n",
    "USER_PATH = '/Users/MichaelCalmette/Documents/Finance Research/ESG Data Files/'\n",
    "DATE_PATH = \"esg-{}-{}.csv\".format(dt.month, dt.year)\n",
    "#DATE_PATH = \"esg-2-2022.csv\"\n",
    "\n",
    "FILE_PATH = os.path.join(USER_PATH,DATE_PATH)"
   ]
  },
  {
   "cell_type": "markdown",
   "metadata": {},
   "source": [
    "Create functions to see if file exists / if there is data in there"
   ]
  },
  {
   "cell_type": "code",
   "execution_count": 2,
   "metadata": {},
   "outputs": [
    {
     "data": {
      "text/plain": [
       "<function TextIOWrapper.close()>"
      ]
     },
     "execution_count": 2,
     "metadata": {},
     "output_type": "execute_result"
    }
   ],
   "source": [
    "f = open(FILE_PATH, 'w')\n",
    "f.close\n",
    "### Check if DF is empty"
   ]
  },
  {
   "cell_type": "code",
   "execution_count": 40,
   "metadata": {},
   "outputs": [],
   "source": [
    "def send_notification(title, t):\n",
    "    if op_sys == \"Mac\":\n",
    "        message = (\"Time taken: {} minutes\".format(t))\n",
    "        command = f'''\n",
    "        osascript -e 'display notification \"{message}\" with title \"{title}\"'\n",
    "        '''\n",
    "        os.system(command)\n",
    "    "
   ]
  },
  {
   "cell_type": "markdown",
   "metadata": {},
   "source": [
    "Need to compare data in esg-csv to all tickers"
   ]
  },
  {
   "cell_type": "code",
   "execution_count": 26,
   "metadata": {},
   "outputs": [],
   "source": [
    "df = pd.read_csv('tickers.csv')\n",
    "#all_data = pd.DataFrame(columns=ESG_COLUMNS)\n",
    "# Only do if month is partially filled\n",
    "all_data = pd.read_csv(FILE_PATH)\n",
    "empty_stocks = pd.DataFrame(columns= ['Ticker'])"
   ]
  },
  {
   "cell_type": "code",
   "execution_count": null,
   "metadata": {},
   "outputs": [],
   "source": [
    "tic = df.sample(n=1)\n",
    "ticker_sym = tic.loc[tic.index[0],'Symbol'] # get ticker name ex: 'AAPL'\n",
    "print(ticker_sym)\n",
    "ticker = yf.Ticker(ticker_sym).history(period=\"1mo\")\n",
    "ticker"
   ]
  },
  {
   "cell_type": "markdown",
   "metadata": {},
   "source": [
    "Yahoo Financials to get additional stock data"
   ]
  },
  {
   "cell_type": "code",
   "execution_count": null,
   "metadata": {},
   "outputs": [],
   "source": [
    "yahoo_financials = YahooFinancials('AAPL')\n",
    "print(yahoo_financials.get_summary_data())"
   ]
  },
  {
   "cell_type": "markdown",
   "metadata": {},
   "source": [
    "Test pulling a random ticker and getting sustainability information"
   ]
  },
  {
   "cell_type": "code",
   "execution_count": null,
   "metadata": {},
   "outputs": [],
   "source": [
    "tic = df.sample(n=1)\n",
    "ticker_sym = tic.loc[tic.index[0],'Symbol'] # get ticker name ex: 'AAPL'\n",
    "ticker = yf.Ticker(ticker_sym)\n",
    "y = ticker.sustainability \n",
    "y"
   ]
  },
  {
   "cell_type": "code",
   "execution_count": 43,
   "metadata": {},
   "outputs": [
    {
     "name": "stderr",
     "output_type": "stream",
     "text": [
      "100%|██████████| 15/15 [03:10<00:00, 12.73s/it]\n"
     ]
    },
    {
     "name": "stdout",
     "output_type": "stream",
     "text": [
      "There are: 478 stocks left in the database\n",
      "There are: 3 stocks with no ESG data\n",
      "Dataframe shape: 27\n",
      "Missing stocks: 3\n"
     ]
    }
   ],
   "source": [
    "df1_transposed = pd.DataFrame()\n",
    "no_data_stocks = 0\n",
    "start_time = time.time()\n",
    "for x in tqdm(range(15)):\n",
    "    \n",
    "    temp = all_data[['Stock Ticker','Sector','Name']].copy()\n",
    "    df_test = df.merge(temp, how = 'outer' ,indicator=True).loc[lambda x : x['_merge']=='left_only']\n",
    "    tic = df_test.sample(n=1)\n",
    "    ticker_sym = tic.loc[tic.index[0],'Symbol'] # get ticker name ex: 'AAPL'\n",
    "    ticker = yf.Ticker(ticker_sym)\n",
    "    y = ticker.sustainability \n",
    "    df1 = y\n",
    "\n",
    "    if df1 is None:\n",
    "        no_data_stocks += 1\n",
    "        empty_stocks = empty_stocks.append({\"Ticker\": ticker_sym}, ignore_index = True)\n",
    "    else:\n",
    "        df1_transposed = df1.transpose()\n",
    "        #print(df1_transposed.columns)\n",
    "        df1_transposed['Stock Ticker'] = ticker_sym\n",
    "        df1_transposed['Sector'] = tic.loc[tic.index[0],'Sector']\n",
    "        df1_transposed['Name'] = tic.loc[tic.index[0],'Name']\n",
    "\n",
    "        #all_data = df1_transposed\n",
    "        all_data = all_data.append(df1_transposed, ignore_index = True)\n",
    "\n",
    "all_shape = len(all_data)\n",
    "empty_shape = len(empty_stocks)\n",
    "time_taken = round((time.time() - start_time) / 60,2)\n",
    "\n",
    "print(\"There are: {} stocks left in the database\".format(len(df_test)))\n",
    "print(\"There are: {} stocks with no ESG data\".format(no_data_stocks))\n",
    "\n",
    "print(\"Dataframe shape: {}\".format(all_shape))\n",
    "print(\"Missing stocks: {}\".format(empty_shape))\n",
    "\n",
    "send_notification(\"Completed ESG Data Pull\",time_taken)"
   ]
  },
  {
   "cell_type": "markdown",
   "metadata": {},
   "source": [
    "Make sure there are no duplicates"
   ]
  },
  {
   "cell_type": "code",
   "execution_count": 25,
   "metadata": {},
   "outputs": [
    {
     "data": {
      "text/plain": [
       "(23, 30)"
      ]
     },
     "execution_count": 25,
     "metadata": {},
     "output_type": "execute_result"
    }
   ],
   "source": [
    "all_data.shape"
   ]
  },
  {
   "cell_type": "code",
   "execution_count": null,
   "metadata": {},
   "outputs": [],
   "source": [
    "s = len(all_data)\n",
    "print(all_data.shape)\n",
    "all_data = all_data.drop_duplicates()\n",
    "dropped=len(all_data) - s\n",
    "print(\"{} duplicates have been dropped\".format(dropped))"
   ]
  },
  {
   "cell_type": "code",
   "execution_count": null,
   "metadata": {},
   "outputs": [],
   "source": [
    "all_data.shape"
   ]
  },
  {
   "cell_type": "code",
   "execution_count": null,
   "metadata": {},
   "outputs": [],
   "source": [
    "all_data['Stock Ticker'].value_counts()"
   ]
  },
  {
   "cell_type": "code",
   "execution_count": null,
   "metadata": {},
   "outputs": [],
   "source": [
    "if os.stat(FILE_PATH).st_size == 0:\n",
    "    CURRENT_CSV_FILE = 0\n",
    "    print('ESG File is empty')\n",
    "    f = open(FILE_PATH, 'w')\n",
    "    f.close\n",
    "\n",
    "    with open(FILE_PATH, 'a', newline='') as f_object: \n",
    "        writer_object = writer(f_object) # Pass the CSV  file object to the writer() function\n",
    "        writer_object.writerow(all_data) # Pass the data in the list as an argument into the writerow() function\n",
    "        f_object.close()\n",
    "    print('Column names have been entered.')\n",
    "\n",
    "else:\n",
    "    CURRENT_CSV_FILE = 1\n",
    "    print('ESG File has column headers.')\n",
    "    all_data.to_csv(FILE_PATH, mode='a', index=False, header=False)\n",
    "    print('ESG Data has been entered.')"
   ]
  }
 ],
 "metadata": {
  "interpreter": {
   "hash": "aee8b7b246df8f9039afb4144a1f6fd8d2ca17a180786b69acc140d282b71a49"
  },
  "kernelspec": {
   "display_name": "Python 3.8.3 64-bit",
   "language": "python",
   "name": "python3"
  },
  "language_info": {
   "codemirror_mode": {
    "name": "ipython",
    "version": 3
   },
   "file_extension": ".py",
   "mimetype": "text/x-python",
   "name": "python",
   "nbconvert_exporter": "python",
   "pygments_lexer": "ipython3",
   "version": "3.8.3"
  },
  "orig_nbformat": 4
 },
 "nbformat": 4,
 "nbformat_minor": 2
}
