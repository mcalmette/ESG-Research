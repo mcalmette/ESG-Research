{
 "cells": [
  {
   "cell_type": "markdown",
   "metadata": {},
   "source": [
    "## ESG Research \n",
    "### Yfinance, Pandas, NumPy\n",
    "\n",
    "\n",
    "# Installation\n",
    "* pip install pandas\n",
    "* pip install numpy\n",
    "* pip3 install tqdm\n",
    "* pip3 install seaborn\n",
    "* pip install yfinance | pip3 install yfinance\n",
    "* pip install git+https://github.com/rodrigobercini/yfinance.git\n"
   ]
  },
  {
   "cell_type": "code",
   "execution_count": 2,
   "metadata": {},
   "outputs": [],
   "source": [
    "#Import necessary libraries\n",
    "import pandas as pd\n",
    "import numpy as np\n",
    "import yfinance as yf\n",
    "from pandas import Series, DataFrame\n",
    "from pandas.tseries import offsets\n",
    "import csv\n",
    "import datetime\n",
    "import csv\n",
    "from csv import writer\n",
    "from tqdm import tqdm\n",
    "import os\n",
    "import time\n",
    "from yahoofinancials import YahooFinancials\n",
    "from sys import platform\n",
    "\n",
    "dt = datetime.datetime.today()\n",
    "\n",
    "YEAR = dt.year\n",
    "MONTH = dt.month\n",
    "CURRENT_CSV_FILE = bool\n",
    "\n",
    "if platform == \"linux\" or platform == \"linux2\":\n",
    "       op_sys = \"linux\"\n",
    "elif platform == \"darwin\":\n",
    "       op_sys = \"Mac\"\n",
    "elif platform == \"win32\":\n",
    "       op_sys = \"Windows\"\n",
    "    \n",
    "ESG_COLUMNS = {'palmOil', 'controversialWeapons', 'gambling', 'socialScore', 'nuclear',\n",
    "       'furLeather', 'alcoholic', 'gmo', 'catholic', 'socialPercentile',\n",
    "       'peerCount', 'governanceScore', 'environmentPercentile',\n",
    "       'animalTesting', 'tobacco', 'totalEsg', 'highestControversy',\n",
    "       'esgPerformance', 'coal', 'pesticides', 'adult', 'percentile',\n",
    "       'peerGroup', 'smallArms', 'environmentScore', 'governancePercentile',\n",
    "       'militaryContract', \n",
    "       #'Stock'\n",
    "}\n",
    "\n",
    "ALL_COLUMNS = {'palmOil', 'peerCount', 'environmentScore', 'militaryContract',\n",
    "       'esgPerformance', 'coal', 'peerGroup', 'furLeather', 'gambling',\n",
    "       'animalTesting', 'catholic', 'nuclear', 'totalEsg', 'adult',\n",
    "       'environmentPercentile', 'highestControversy', 'socialScore',\n",
    "       'percentile', 'alcoholic', 'socialPercentile', 'pesticides',\n",
    "       'governancePercentile', 'controversialWeapons', 'gmo', 'smallArms',\n",
    "       'tobacco', 'governanceScore', 'Stock Ticker', 'Sector', 'Name'\n",
    "}\n",
    "\n",
    "\n",
    "USER_PATH = '/Users/MichaelCalmette/Documents/Finance Research/ESG Data Files/'\n",
    "DATE_PATH = \"esg-{}-{}.csv\".format(dt.month, dt.year)\n",
    "#DATE_PATH = \"esg-2-2022.csv\"\n",
    "\n",
    "FILE_PATH = os.path.join(USER_PATH,DATE_PATH)"
   ]
  },
  {
   "cell_type": "markdown",
   "metadata": {},
   "source": [
    "Create functions to see if file exists / if there is data in there"
   ]
  },
  {
   "cell_type": "code",
   "execution_count": 2,
   "metadata": {},
   "outputs": [
    {
     "data": {
      "text/plain": [
       "<function TextIOWrapper.close()>"
      ]
     },
     "execution_count": 2,
     "metadata": {},
     "output_type": "execute_result"
    }
   ],
   "source": [
    "f = open(FILE_PATH, 'w')\n",
    "f.close\n",
    "### Check if DF is empty"
   ]
  },
  {
   "cell_type": "code",
   "execution_count": 69,
   "metadata": {},
   "outputs": [],
   "source": [
    "def send_notification(title, t):\n",
    "    if op_sys == \"Mac\":\n",
    "        message = (\"Time taken: {} minutes\".format(t))\n",
    "        command = f'''\n",
    "        osascript -e 'display notification \"{message}\" with title \"{title}\"'\n",
    "        '''\n",
    "        os.system(command)"
   ]
  },
  {
   "cell_type": "markdown",
   "metadata": {},
   "source": [
    "Need to compare data in esg-csv to all tickers"
   ]
  },
  {
   "cell_type": "code",
   "execution_count": 13,
   "metadata": {},
   "outputs": [],
   "source": [
    "df = pd.read_csv('tickers.csv')\n",
    "all_data = pd.DataFrame(columns=ESG_COLUMNS)\n",
    "# Only do if month is partially filled\n",
    "all_data = pd.read_csv(FILE_PATH)\n",
    "empty_stocks = pd.DataFrame(columns= ['Ticker'])"
   ]
  },
  {
   "cell_type": "code",
   "execution_count": null,
   "metadata": {},
   "outputs": [],
   "source": [
    "tic = df.sample(n=1)\n",
    "ticker_sym = tic.loc[tic.index[0],'Symbol'] # get ticker name ex: 'AAPL'\n",
    "print(ticker_sym)\n",
    "ticker = yf.Ticker(ticker_sym).history(period=\"1mo\")\n",
    "ticker"
   ]
  },
  {
   "cell_type": "markdown",
   "metadata": {},
   "source": [
    "Yahoo Financials to get additional stock data"
   ]
  },
  {
   "cell_type": "code",
   "execution_count": null,
   "metadata": {},
   "outputs": [],
   "source": [
    "yahoo_financials = YahooFinancials('AAPL')\n",
    "print(yahoo_financials.get_summary_data())"
   ]
  },
  {
   "cell_type": "markdown",
   "metadata": {},
   "source": [
    "Test pulling a random ticker and getting sustainability information"
   ]
  },
  {
   "cell_type": "code",
   "execution_count": null,
   "metadata": {},
   "outputs": [],
   "source": [
    "tic = df.sample(n=1)\n",
    "ticker_sym = tic.loc[tic.index[0],'Symbol'] # get ticker name ex: 'AAPL'\n",
    "ticker = yf.Ticker(ticker_sym)\n",
    "y = ticker.sustainability \n",
    "y"
   ]
  },
  {
   "cell_type": "code",
   "execution_count": 25,
   "metadata": {},
   "outputs": [],
   "source": [
    "from reader import feed"
   ]
  },
  {
   "cell_type": "code",
   "execution_count": 117,
   "metadata": {},
   "outputs": [
    {
     "name": "stderr",
     "output_type": "stream",
     "text": [
      "  2%|▏         | 1/63 [00:11<12:19, 11.93s/it]"
     ]
    },
    {
     "name": "stdout",
     "output_type": "stream",
     "text": [
      "Downloaded and stored ESG data in -1653105648.6582 seconds\n"
     ]
    },
    {
     "name": "stderr",
     "output_type": "stream",
     "text": [
      "  3%|▎         | 2/63 [00:24<12:34, 12.37s/it]"
     ]
    },
    {
     "name": "stdout",
     "output_type": "stream",
     "text": [
      "Downloaded and stored ESG data in -1653105635.9690 seconds\n"
     ]
    },
    {
     "name": "stderr",
     "output_type": "stream",
     "text": [
      "  5%|▍         | 3/63 [00:36<11:59, 11.99s/it]"
     ]
    },
    {
     "name": "stdout",
     "output_type": "stream",
     "text": [
      "Downloaded and stored ESG data in -1653105624.4571 seconds\n"
     ]
    },
    {
     "name": "stderr",
     "output_type": "stream",
     "text": [
      "  6%|▋         | 4/63 [00:48<11:57, 12.15s/it]"
     ]
    },
    {
     "name": "stdout",
     "output_type": "stream",
     "text": [
      "Downloaded and stored ESG data in -1653105612.0362 seconds\n"
     ]
    },
    {
     "name": "stderr",
     "output_type": "stream",
     "text": [
      "  8%|▊         | 5/63 [00:59<11:09, 11.54s/it]"
     ]
    },
    {
     "name": "stdout",
     "output_type": "stream",
     "text": [
      "Downloaded and stored ESG data in -1653105601.5752 seconds\n"
     ]
    },
    {
     "name": "stderr",
     "output_type": "stream",
     "text": [
      " 10%|▉         | 6/63 [01:10<11:02, 11.62s/it]"
     ]
    },
    {
     "name": "stdout",
     "output_type": "stream",
     "text": [
      "Downloaded and stored ESG data in -1653105589.7991 seconds\n"
     ]
    },
    {
     "name": "stderr",
     "output_type": "stream",
     "text": [
      " 11%|█         | 7/63 [01:23<11:08, 11.93s/it]"
     ]
    },
    {
     "name": "stdout",
     "output_type": "stream",
     "text": [
      "Downloaded and stored ESG data in -1653105577.2385 seconds\n"
     ]
    },
    {
     "name": "stderr",
     "output_type": "stream",
     "text": [
      " 13%|█▎        | 8/63 [01:35<11:06, 12.12s/it]"
     ]
    },
    {
     "name": "stdout",
     "output_type": "stream",
     "text": [
      "Downloaded and stored ESG data in -1653105564.6990 seconds\n"
     ]
    },
    {
     "name": "stderr",
     "output_type": "stream",
     "text": [
      " 14%|█▍        | 9/63 [01:46<10:35, 11.78s/it]"
     ]
    },
    {
     "name": "stdout",
     "output_type": "stream",
     "text": [
      "Downloaded and stored ESG data in -1653105553.6878 seconds\n"
     ]
    },
    {
     "name": "stderr",
     "output_type": "stream",
     "text": [
      " 16%|█▌        | 10/63 [01:58<10:16, 11.64s/it]"
     ]
    },
    {
     "name": "stdout",
     "output_type": "stream",
     "text": [
      "Downloaded and stored ESG data in -1653105542.3570 seconds\n"
     ]
    },
    {
     "name": "stderr",
     "output_type": "stream",
     "text": [
      " 17%|█▋        | 11/63 [02:09<09:58, 11.52s/it]"
     ]
    },
    {
     "name": "stdout",
     "output_type": "stream",
     "text": [
      "Downloaded and stored ESG data in -1653105531.1216 seconds\n"
     ]
    },
    {
     "name": "stderr",
     "output_type": "stream",
     "text": [
      " 19%|█▉        | 12/63 [02:21<09:49, 11.57s/it]"
     ]
    },
    {
     "name": "stdout",
     "output_type": "stream",
     "text": [
      "Downloaded and stored ESG data in -1653105519.4372 seconds\n"
     ]
    },
    {
     "name": "stderr",
     "output_type": "stream",
     "text": [
      " 21%|██        | 13/63 [02:34<10:00, 12.00s/it]"
     ]
    },
    {
     "name": "stdout",
     "output_type": "stream",
     "text": [
      "Downloaded and stored ESG data in -1653105506.4378 seconds\n"
     ]
    },
    {
     "name": "stderr",
     "output_type": "stream",
     "text": [
      " 22%|██▏       | 14/63 [02:45<09:43, 11.91s/it]"
     ]
    },
    {
     "name": "stdout",
     "output_type": "stream",
     "text": [
      "Downloaded and stored ESG data in -1653105494.7477 seconds\n"
     ]
    },
    {
     "name": "stderr",
     "output_type": "stream",
     "text": [
      " 24%|██▍       | 15/63 [02:57<09:23, 11.73s/it]"
     ]
    },
    {
     "name": "stdout",
     "output_type": "stream",
     "text": [
      "Downloaded and stored ESG data in -1653105483.4262 seconds\n"
     ]
    },
    {
     "name": "stderr",
     "output_type": "stream",
     "text": [
      " 25%|██▌       | 16/63 [03:08<09:08, 11.67s/it]"
     ]
    },
    {
     "name": "stdout",
     "output_type": "stream",
     "text": [
      "Downloaded and stored ESG data in -1653105471.9012 seconds\n"
     ]
    },
    {
     "name": "stderr",
     "output_type": "stream",
     "text": [
      " 27%|██▋       | 17/63 [03:20<08:57, 11.69s/it]"
     ]
    },
    {
     "name": "stdout",
     "output_type": "stream",
     "text": [
      "Downloaded and stored ESG data in -1653105460.1642 seconds\n"
     ]
    },
    {
     "name": "stderr",
     "output_type": "stream",
     "text": [
      " 29%|██▊       | 18/63 [03:33<08:58, 11.97s/it]"
     ]
    },
    {
     "name": "stdout",
     "output_type": "stream",
     "text": [
      "Downloaded and stored ESG data in -1653105447.5440 seconds\n"
     ]
    },
    {
     "name": "stderr",
     "output_type": "stream",
     "text": [
      " 30%|███       | 19/63 [03:44<08:42, 11.86s/it]"
     ]
    },
    {
     "name": "stdout",
     "output_type": "stream",
     "text": [
      "Downloaded and stored ESG data in -1653105435.9207 seconds\n"
     ]
    },
    {
     "name": "stderr",
     "output_type": "stream",
     "text": [
      " 32%|███▏      | 20/63 [03:56<08:27, 11.80s/it]"
     ]
    },
    {
     "name": "stdout",
     "output_type": "stream",
     "text": [
      "Downloaded and stored ESG data in -1653105424.2641 seconds\n"
     ]
    },
    {
     "name": "stderr",
     "output_type": "stream",
     "text": [
      " 33%|███▎      | 21/63 [04:08<08:14, 11.78s/it]"
     ]
    },
    {
     "name": "stdout",
     "output_type": "stream",
     "text": [
      "Downloaded and stored ESG data in -1653105412.5223 seconds\n"
     ]
    },
    {
     "name": "stderr",
     "output_type": "stream",
     "text": [
      " 35%|███▍      | 22/63 [04:19<08:02, 11.77s/it]"
     ]
    },
    {
     "name": "stdout",
     "output_type": "stream",
     "text": [
      "Downloaded and stored ESG data in -1653105400.7816 seconds\n"
     ]
    },
    {
     "name": "stderr",
     "output_type": "stream",
     "text": [
      " 37%|███▋      | 23/63 [04:31<07:55, 11.88s/it]"
     ]
    },
    {
     "name": "stdout",
     "output_type": "stream",
     "text": [
      "Downloaded and stored ESG data in -1653105388.6462 seconds\n"
     ]
    },
    {
     "name": "stderr",
     "output_type": "stream",
     "text": [
      " 38%|███▊      | 24/63 [04:43<07:44, 11.91s/it]"
     ]
    },
    {
     "name": "stdout",
     "output_type": "stream",
     "text": [
      "Downloaded and stored ESG data in -1653105376.6742 seconds\n"
     ]
    },
    {
     "name": "stderr",
     "output_type": "stream",
     "text": [
      " 40%|███▉      | 25/63 [04:55<07:33, 11.93s/it]"
     ]
    },
    {
     "name": "stdout",
     "output_type": "stream",
     "text": [
      "Downloaded and stored ESG data in -1653105364.6903 seconds\n"
     ]
    },
    {
     "name": "stderr",
     "output_type": "stream",
     "text": [
      " 41%|████▏     | 26/63 [05:02<06:18, 10.22s/it]"
     ]
    },
    {
     "name": "stdout",
     "output_type": "stream",
     "text": [
      "Downloaded and stored ESG data in -1653105358.4639 seconds\n"
     ]
    },
    {
     "name": "stderr",
     "output_type": "stream",
     "text": [
      " 43%|████▎     | 27/63 [05:12<06:11, 10.33s/it]"
     ]
    },
    {
     "name": "stdout",
     "output_type": "stream",
     "text": [
      "Downloaded and stored ESG data in -1653105347.8833 seconds\n"
     ]
    },
    {
     "name": "stderr",
     "output_type": "stream",
     "text": [
      " 44%|████▍     | 28/63 [05:26<06:39, 11.43s/it]"
     ]
    },
    {
     "name": "stdout",
     "output_type": "stream",
     "text": [
      "Downloaded and stored ESG data in -1653105333.8995 seconds\n"
     ]
    },
    {
     "name": "stderr",
     "output_type": "stream",
     "text": [
      " 46%|████▌     | 29/63 [05:39<06:38, 11.71s/it]"
     ]
    },
    {
     "name": "stdout",
     "output_type": "stream",
     "text": [
      "Downloaded and stored ESG data in -1653105321.5325 seconds\n"
     ]
    },
    {
     "name": "stderr",
     "output_type": "stream",
     "text": [
      " 48%|████▊     | 30/63 [05:50<06:28, 11.77s/it]"
     ]
    },
    {
     "name": "stdout",
     "output_type": "stream",
     "text": [
      "Downloaded and stored ESG data in -1653105309.6272 seconds\n"
     ]
    },
    {
     "name": "stderr",
     "output_type": "stream",
     "text": [
      " 49%|████▉     | 31/63 [05:57<05:28, 10.26s/it]"
     ]
    },
    {
     "name": "stdout",
     "output_type": "stream",
     "text": [
      "Downloaded and stored ESG data in -1653105302.8955 seconds\n"
     ]
    },
    {
     "name": "stderr",
     "output_type": "stream",
     "text": [
      " 51%|█████     | 32/63 [06:09<05:32, 10.74s/it]"
     ]
    },
    {
     "name": "stdout",
     "output_type": "stream",
     "text": [
      "Downloaded and stored ESG data in -1653105291.0443 seconds\n"
     ]
    },
    {
     "name": "stderr",
     "output_type": "stream",
     "text": [
      " 52%|█████▏    | 33/63 [06:16<04:45,  9.53s/it]"
     ]
    },
    {
     "name": "stdout",
     "output_type": "stream",
     "text": [
      "Downloaded and stored ESG data in -1653105284.3295 seconds\n"
     ]
    },
    {
     "name": "stderr",
     "output_type": "stream",
     "text": [
      " 54%|█████▍    | 34/63 [06:29<05:10, 10.72s/it]"
     ]
    },
    {
     "name": "stdout",
     "output_type": "stream",
     "text": [
      "Downloaded and stored ESG data in -1653105270.8196 seconds\n"
     ]
    },
    {
     "name": "stderr",
     "output_type": "stream",
     "text": [
      " 56%|█████▌    | 35/63 [06:41<05:07, 10.99s/it]"
     ]
    },
    {
     "name": "stdout",
     "output_type": "stream",
     "text": [
      "Downloaded and stored ESG data in -1653105259.2012 seconds\n"
     ]
    },
    {
     "name": "stderr",
     "output_type": "stream",
     "text": [
      " 57%|█████▋    | 36/63 [06:53<05:02, 11.21s/it]"
     ]
    },
    {
     "name": "stdout",
     "output_type": "stream",
     "text": [
      "Downloaded and stored ESG data in -1653105247.4701 seconds\n"
     ]
    },
    {
     "name": "stderr",
     "output_type": "stream",
     "text": [
      " 59%|█████▊    | 37/63 [07:05<05:01, 11.60s/it]"
     ]
    },
    {
     "name": "stdout",
     "output_type": "stream",
     "text": [
      "Downloaded and stored ESG data in -1653105234.9595 seconds\n"
     ]
    },
    {
     "name": "stderr",
     "output_type": "stream",
     "text": [
      " 60%|██████    | 38/63 [07:18<04:59, 11.99s/it]"
     ]
    },
    {
     "name": "stdout",
     "output_type": "stream",
     "text": [
      "Downloaded and stored ESG data in -1653105222.0582 seconds\n"
     ]
    },
    {
     "name": "stderr",
     "output_type": "stream",
     "text": [
      " 62%|██████▏   | 39/63 [07:31<04:57, 12.41s/it]"
     ]
    },
    {
     "name": "stdout",
     "output_type": "stream",
     "text": [
      "Downloaded and stored ESG data in -1653105208.6664 seconds\n"
     ]
    },
    {
     "name": "stderr",
     "output_type": "stream",
     "text": [
      " 63%|██████▎   | 40/63 [07:38<04:02, 10.52s/it]"
     ]
    },
    {
     "name": "stdout",
     "output_type": "stream",
     "text": [
      "Downloaded and stored ESG data in -1653105202.5501 seconds\n"
     ]
    },
    {
     "name": "stderr",
     "output_type": "stream",
     "text": [
      " 65%|██████▌   | 41/63 [07:50<04:01, 10.95s/it]"
     ]
    },
    {
     "name": "stdout",
     "output_type": "stream",
     "text": [
      "Downloaded and stored ESG data in -1653105190.5886 seconds\n"
     ]
    },
    {
     "name": "stderr",
     "output_type": "stream",
     "text": [
      " 67%|██████▋   | 42/63 [08:02<03:57, 11.32s/it]"
     ]
    },
    {
     "name": "stdout",
     "output_type": "stream",
     "text": [
      "Downloaded and stored ESG data in -1653105178.4004 seconds\n"
     ]
    },
    {
     "name": "stderr",
     "output_type": "stream",
     "text": [
      " 68%|██████▊   | 43/63 [08:14<03:49, 11.49s/it]"
     ]
    },
    {
     "name": "stdout",
     "output_type": "stream",
     "text": [
      "Downloaded and stored ESG data in -1653105166.5761 seconds\n"
     ]
    },
    {
     "name": "stderr",
     "output_type": "stream",
     "text": [
      " 70%|██████▉   | 44/63 [08:27<03:47, 11.99s/it]"
     ]
    },
    {
     "name": "stdout",
     "output_type": "stream",
     "text": [
      "Downloaded and stored ESG data in -1653105153.3826 seconds\n"
     ]
    },
    {
     "name": "stderr",
     "output_type": "stream",
     "text": [
      " 71%|███████▏  | 45/63 [08:39<03:35, 11.97s/it]"
     ]
    },
    {
     "name": "stdout",
     "output_type": "stream",
     "text": [
      "Downloaded and stored ESG data in -1653105141.4437 seconds\n"
     ]
    },
    {
     "name": "stderr",
     "output_type": "stream",
     "text": [
      " 73%|███████▎  | 46/63 [08:50<03:19, 11.75s/it]"
     ]
    },
    {
     "name": "stdout",
     "output_type": "stream",
     "text": [
      "Downloaded and stored ESG data in -1653105130.2111 seconds\n"
     ]
    },
    {
     "name": "stderr",
     "output_type": "stream",
     "text": [
      " 75%|███████▍  | 47/63 [09:02<03:11, 11.95s/it]"
     ]
    },
    {
     "name": "stdout",
     "output_type": "stream",
     "text": [
      "Downloaded and stored ESG data in -1653105117.7984 seconds\n"
     ]
    },
    {
     "name": "stderr",
     "output_type": "stream",
     "text": [
      " 76%|███████▌  | 48/63 [09:14<02:58, 11.90s/it]"
     ]
    },
    {
     "name": "stdout",
     "output_type": "stream",
     "text": [
      "Downloaded and stored ESG data in -1653105106.0263 seconds\n"
     ]
    },
    {
     "name": "stderr",
     "output_type": "stream",
     "text": [
      " 78%|███████▊  | 49/63 [09:26<02:47, 11.93s/it]"
     ]
    },
    {
     "name": "stdout",
     "output_type": "stream",
     "text": [
      "Downloaded and stored ESG data in -1653105094.0056 seconds\n"
     ]
    },
    {
     "name": "stderr",
     "output_type": "stream",
     "text": [
      " 79%|███████▉  | 50/63 [09:38<02:34, 11.86s/it]"
     ]
    },
    {
     "name": "stdout",
     "output_type": "stream",
     "text": [
      "Downloaded and stored ESG data in -1653105082.3303 seconds\n"
     ]
    },
    {
     "name": "stderr",
     "output_type": "stream",
     "text": [
      " 81%|████████  | 51/63 [09:49<02:21, 11.76s/it]"
     ]
    },
    {
     "name": "stdout",
     "output_type": "stream",
     "text": [
      "Downloaded and stored ESG data in -1653105070.7972 seconds\n"
     ]
    },
    {
     "name": "stderr",
     "output_type": "stream",
     "text": [
      " 83%|████████▎ | 52/63 [10:01<02:10, 11.82s/it]"
     ]
    },
    {
     "name": "stdout",
     "output_type": "stream",
     "text": [
      "Downloaded and stored ESG data in -1653105058.8314 seconds\n"
     ]
    },
    {
     "name": "stderr",
     "output_type": "stream",
     "text": [
      " 84%|████████▍ | 53/63 [10:13<01:57, 11.78s/it]"
     ]
    },
    {
     "name": "stdout",
     "output_type": "stream",
     "text": [
      "Downloaded and stored ESG data in -1653105047.1407 seconds\n"
     ]
    },
    {
     "name": "stderr",
     "output_type": "stream",
     "text": [
      " 86%|████████▌ | 54/63 [10:25<01:46, 11.89s/it]"
     ]
    },
    {
     "name": "stdout",
     "output_type": "stream",
     "text": [
      "Downloaded and stored ESG data in -1653105035.0212 seconds\n"
     ]
    },
    {
     "name": "stderr",
     "output_type": "stream",
     "text": [
      " 87%|████████▋ | 55/63 [10:37<01:34, 11.85s/it]"
     ]
    },
    {
     "name": "stdout",
     "output_type": "stream",
     "text": [
      "Downloaded and stored ESG data in -1653105023.2608 seconds\n"
     ]
    },
    {
     "name": "stderr",
     "output_type": "stream",
     "text": [
      " 89%|████████▉ | 56/63 [10:48<01:21, 11.60s/it]"
     ]
    },
    {
     "name": "stdout",
     "output_type": "stream",
     "text": [
      "Downloaded and stored ESG data in -1653105012.2212 seconds\n"
     ]
    },
    {
     "name": "stderr",
     "output_type": "stream",
     "text": [
      " 90%|█████████ | 57/63 [10:59<01:09, 11.54s/it]"
     ]
    },
    {
     "name": "stdout",
     "output_type": "stream",
     "text": [
      "Downloaded and stored ESG data in -1653105000.8206 seconds\n"
     ]
    },
    {
     "name": "stderr",
     "output_type": "stream",
     "text": [
      " 92%|█████████▏| 58/63 [11:12<00:58, 11.75s/it]"
     ]
    },
    {
     "name": "stdout",
     "output_type": "stream",
     "text": [
      "Downloaded and stored ESG data in -1653104988.5789 seconds\n"
     ]
    },
    {
     "name": "stderr",
     "output_type": "stream",
     "text": [
      " 94%|█████████▎| 59/63 [11:23<00:46, 11.72s/it]"
     ]
    },
    {
     "name": "stdout",
     "output_type": "stream",
     "text": [
      "Downloaded and stored ESG data in -1653104976.9412 seconds\n"
     ]
    },
    {
     "name": "stderr",
     "output_type": "stream",
     "text": [
      " 95%|█████████▌| 60/63 [11:32<00:32, 10.72s/it]"
     ]
    },
    {
     "name": "stdout",
     "output_type": "stream",
     "text": [
      "Downloaded and stored ESG data in -1653104968.5509 seconds\n"
     ]
    },
    {
     "name": "stderr",
     "output_type": "stream",
     "text": [
      " 97%|█████████▋| 61/63 [11:43<00:21, 10.91s/it]"
     ]
    },
    {
     "name": "stdout",
     "output_type": "stream",
     "text": [
      "Downloaded and stored ESG data in -1653104957.2157 seconds\n"
     ]
    },
    {
     "name": "stderr",
     "output_type": "stream",
     "text": [
      " 98%|█████████▊| 62/63 [11:54<00:11, 11.03s/it]"
     ]
    },
    {
     "name": "stdout",
     "output_type": "stream",
     "text": [
      "Downloaded and stored ESG data in -1653104945.9103 seconds\n"
     ]
    },
    {
     "name": "stderr",
     "output_type": "stream",
     "text": [
      "100%|██████████| 63/63 [12:06<00:00, 11.53s/it]"
     ]
    },
    {
     "name": "stdout",
     "output_type": "stream",
     "text": [
      "Downloaded and stored ESG data in -1653104934.0164 seconds\n",
      "There are: 63 stocks left in the database\n",
      "There are: 62 stocks with no ESG data\n",
      "Dataframe shape: 466\n",
      "Missing stocks: 413\n"
     ]
    },
    {
     "name": "stderr",
     "output_type": "stream",
     "text": [
      "\n"
     ]
    }
   ],
   "source": [
    "df1_transposed = pd.DataFrame()\n",
    "no_data_stocks = 0\n",
    "start_time = time.time()\n",
    "temp = all_data[['Stock Ticker','Sector','Name']].copy()\n",
    "\n",
    "for x in tqdm(range(63)):\n",
    "    df_test = df.merge(temp, how = 'outer' ,indicator=True).loc[lambda x : x['_merge']=='left_only']\n",
    "    tic = df_test.sample(n=1)\n",
    "    ticker_sym = tic.loc[tic.index[0],'Symbol'] # get ticker name ex: 'AAPL'\n",
    "    ticker = yf.Ticker(ticker_sym)\n",
    "    y = ticker.sustainability \n",
    "    df1 = y\n",
    "    end_time = time.perf_counter()\n",
    "    print(f\"Downloaded and stored ESG data in {end_time - start_time:0.4f} seconds\")\n",
    "\n",
    "    if df1 is None:\n",
    "        no_data_stocks += 1\n",
    "        empty_stocks = empty_stocks.append({\"Ticker\": ticker_sym}, ignore_index = True)\n",
    "    else:\n",
    "        df1_transposed = df1.transpose()\n",
    "        #print(df1_transposed.columns)\n",
    "        df1_transposed['Stock Ticker'] = ticker_sym\n",
    "        df1_transposed['Sector'] = tic.loc[tic.index[0],'Sector']\n",
    "        df1_transposed['Name'] = tic.loc[tic.index[0],'Name']\n",
    "\n",
    "        #all_data = df1_transposed\n",
    "        all_data = all_data.append(df1_transposed, ignore_index = True)\n",
    "    temp = temp[temp['Stock Ticker'] != ticker_sym]\n",
    "\n",
    "all_shape = len(all_data)\n",
    "empty_shape = len(empty_stocks)\n",
    "time_taken = round((time.time() - start_time) / 60,2)\n",
    "\n",
    "print(\"There are: {} stocks left in the database\".format(len(df_test)))\n",
    "print(\"There are: {} stocks with no ESG data\".format(no_data_stocks))\n",
    "\n",
    "print(\"Dataframe shape: {}\".format(all_shape))\n",
    "print(\"Missing stocks: {}\".format(empty_shape))\n",
    "\n",
    "send_notification(\"Completed ESG Data Pull\",time_taken)"
   ]
  },
  {
   "cell_type": "markdown",
   "metadata": {},
   "source": [
    "Make sure there are no duplicates"
   ]
  },
  {
   "cell_type": "code",
   "execution_count": 112,
   "metadata": {},
   "outputs": [
    {
     "data": {
      "text/plain": [
       "GWW     3\n",
       "C       3\n",
       "BBWI    3\n",
       "DISH    2\n",
       "QRVO    2\n",
       "       ..\n",
       "TPR     1\n",
       "ROL     1\n",
       "EXR     1\n",
       "PFG     1\n",
       "WHR     1\n",
       "Name: Stock Ticker, Length: 442, dtype: int64"
      ]
     },
     "execution_count": 112,
     "metadata": {},
     "output_type": "execute_result"
    }
   ],
   "source": [
    "all_data['Stock Ticker'].value_counts()"
   ]
  },
  {
   "cell_type": "code",
   "execution_count": 47,
   "metadata": {},
   "outputs": [
    {
     "name": "stdout",
     "output_type": "stream",
     "text": [
      "(263, 30)\n",
      "0 duplicates have been dropped\n"
     ]
    }
   ],
   "source": [
    "s = len(all_data)\n",
    "print(all_data.shape)\n",
    "all_data = all_data.drop_duplicates()\n",
    "dropped=len(all_data) - s\n",
    "print(\"{} duplicates have been dropped\".format(dropped))"
   ]
  },
  {
   "cell_type": "code",
   "execution_count": 113,
   "metadata": {},
   "outputs": [
    {
     "data": {
      "text/plain": [
       "(465, 30)"
      ]
     },
     "execution_count": 113,
     "metadata": {},
     "output_type": "execute_result"
    }
   ],
   "source": [
    "all_data.shape"
   ]
  },
  {
   "cell_type": "code",
   "execution_count": null,
   "metadata": {},
   "outputs": [],
   "source": [
    "all_data['Stock Ticker'].value_counts()"
   ]
  },
  {
   "cell_type": "code",
   "execution_count": 118,
   "metadata": {},
   "outputs": [
    {
     "name": "stdout",
     "output_type": "stream",
     "text": [
      "ESG File has column headers.\n",
      "ESG Data has been entered.\n"
     ]
    }
   ],
   "source": [
    "if os.stat(FILE_PATH).st_size == 0:\n",
    "    CURRENT_CSV_FILE = 0\n",
    "    print('ESG File is empty')\n",
    "    f = open(FILE_PATH, 'w')\n",
    "    f.close\n",
    "\n",
    "    with open(FILE_PATH, 'a', newline='') as f_object: \n",
    "        writer_object = writer(f_object) # Pass the CSV  file object to the writer() function\n",
    "        writer_object.writerow(all_data) # Pass the data in the list as an argument into the writerow() function\n",
    "        f_object.close()\n",
    "    print('Column names have been entered.')\n",
    "\n",
    "else:\n",
    "    CURRENT_CSV_FILE = 1\n",
    "    print('ESG File has column headers.')\n",
    "    all_data.to_csv(FILE_PATH, mode='a', index=False, header=False)\n",
    "    print('ESG Data has been entered.')"
   ]
  }
 ],
 "metadata": {
  "interpreter": {
   "hash": "aee8b7b246df8f9039afb4144a1f6fd8d2ca17a180786b69acc140d282b71a49"
  },
  "kernelspec": {
   "display_name": "Python 3.8.3 64-bit",
   "language": "python",
   "name": "python3"
  },
  "language_info": {
   "codemirror_mode": {
    "name": "ipython",
    "version": 3
   },
   "file_extension": ".py",
   "mimetype": "text/x-python",
   "name": "python",
   "nbconvert_exporter": "python",
   "pygments_lexer": "ipython3",
   "version": "3.8.3"
  },
  "orig_nbformat": 4
 },
 "nbformat": 4,
 "nbformat_minor": 2
}
