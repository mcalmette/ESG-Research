{
 "cells": [
  {
   "cell_type": "markdown",
   "metadata": {},
   "source": [
    "## ESG Research \n",
    "### Yfinance, Pandas, NumPy\n",
    "\n",
    "\n",
    "# Installation\n",
    "* pip install pandas\n",
    "* pip install numpy\n",
    "* pip install yfinance | pip3 install yfinance\n",
    "* pip install git+https://github.com/rodrigobercini/yfinance.git\n"
   ]
  },
  {
   "cell_type": "code",
   "execution_count": 1,
   "metadata": {},
   "outputs": [],
   "source": [
    "#Import necessary libraries\n",
    "import pandas as pd\n",
    "import numpy as np\n",
    "import yfinance as yf\n",
    "from pandas import Series, DataFrame\n",
    "from pandas.tseries import offsets\n",
    "import csv\n",
    "import datetime\n",
    "import csv\n",
    "from csv import writer\n",
    "\n",
    "import os\n",
    "\n",
    "dt = datetime.datetime.today()\n",
    "\n",
    "YEAR = dt.year\n",
    "MONTH = dt.month\n",
    "CURRENT_CSV_FILE = bool\n",
    "\n",
    "ESG_COLUMNS = {'palmOil', 'controversialWeapons', 'gambling', 'socialScore', 'nuclear',\n",
    "       'furLeather', 'alcoholic', 'gmo', 'catholic', 'socialPercentile',\n",
    "       'peerCount', 'governanceScore', 'environmentPercentile',\n",
    "       'animalTesting', 'tobacco', 'totalEsg', 'highestControversy',\n",
    "       'esgPerformance', 'coal', 'pesticides', 'adult', 'percentile',\n",
    "       'peerGroup', 'smallArms', 'environmentScore', 'governancePercentile',\n",
    "       'militaryContract', \n",
    "       #'Stock'\n",
    "}\n",
    "\n",
    "ALL_COLUMNS = {'palmOil', 'peerCount', 'environmentScore', 'militaryContract',\n",
    "       'esgPerformance', 'coal', 'peerGroup', 'furLeather', 'gambling',\n",
    "       'animalTesting', 'catholic', 'nuclear', 'totalEsg', 'adult',\n",
    "       'environmentPercentile', 'highestControversy', 'socialScore',\n",
    "       'percentile', 'alcoholic', 'socialPercentile', 'pesticides',\n",
    "       'governancePercentile', 'controversialWeapons', 'gmo', 'smallArms',\n",
    "       'tobacco', 'governanceScore', 'Stock Ticker', 'Sector', 'Name'\n",
    "}\n",
    "\n",
    "USER_PATH = '/Users/MichaelCalmette/Documents/Finance Research/ESG Data Files/'\n",
    "DATE_PATH = \"esg-{}-{}.csv\".format(dt.month, dt.year)\n",
    "FILE_PATH = os.path.join(USER_PATH,DATE_PATH)"
   ]
  },
  {
   "cell_type": "code",
   "execution_count": 2,
   "metadata": {},
   "outputs": [
    {
     "data": {
      "text/plain": [
       "<function TextIOWrapper.close()>"
      ]
     },
     "execution_count": 2,
     "metadata": {},
     "output_type": "execute_result"
    }
   ],
   "source": [
    "f = open(FILE_PATH, 'w')\n",
    "f.close"
   ]
  },
  {
   "cell_type": "markdown",
   "metadata": {},
   "source": [
    "Need to compare data in esg-csv to all tickers"
   ]
  },
  {
   "cell_type": "code",
   "execution_count": 3,
   "metadata": {},
   "outputs": [],
   "source": [
    "df = pd.read_csv('tickers.csv')\n",
    "all_data = pd.DataFrame(columns=ESG_COLUMNS)"
   ]
  },
  {
   "cell_type": "code",
   "execution_count": 4,
   "metadata": {},
   "outputs": [
    {
     "name": "stdout",
     "output_type": "stream",
     "text": [
      "MDT\n",
      "Index(['palmOil', 'controversialWeapons', 'gambling', 'socialScore', 'nuclear',\n",
      "       'furLeather', 'alcoholic', 'gmo', 'catholic', 'socialPercentile',\n",
      "       'peerCount', 'governanceScore', 'environmentPercentile',\n",
      "       'animalTesting', 'tobacco', 'totalEsg', 'highestControversy',\n",
      "       'esgPerformance', 'coal', 'pesticides', 'adult', 'percentile',\n",
      "       'peerGroup', 'smallArms', 'environmentScore', 'governancePercentile',\n",
      "       'militaryContract'],\n",
      "      dtype='object', name='2022-2')\n",
      "KHC\n",
      "Index(['palmOil', 'controversialWeapons', 'gambling', 'socialScore', 'nuclear',\n",
      "       'furLeather', 'alcoholic', 'gmo', 'catholic', 'socialPercentile',\n",
      "       'peerCount', 'governanceScore', 'environmentPercentile',\n",
      "       'animalTesting', 'tobacco', 'totalEsg', 'highestControversy',\n",
      "       'esgPerformance', 'coal', 'pesticides', 'adult', 'percentile',\n",
      "       'peerGroup', 'smallArms', 'environmentScore', 'governancePercentile',\n",
      "       'militaryContract'],\n",
      "      dtype='object', name='2022-2')\n"
     ]
    }
   ],
   "source": [
    "for x in range(2):\n",
    "    tic = df.sample(n=1)\n",
    "    ticker_sym = tic.loc[tic.index[0],'Symbol'] # get ticker name ex: 'AAPL'\n",
    "    print(ticker_sym)\n",
    "    ticker = yf.Ticker(ticker_sym)\n",
    "    y = ticker.sustainability \n",
    "    \n",
    "    #df1_transposed = y.T\n",
    "    df1_transposed = y\n",
    "    df1_transposed = df1_transposed.transpose()\n",
    "    #print(df1_transposed.columns)\n",
    "    df1_transposed['Stock Ticker'] = ticker_sym\n",
    "    df1_transposed['Sector'] = tic.loc[tic.index[0],'Sector']\n",
    "    df1_transposed['Name'] = tic.loc[tic.index[0],'Name']\n",
    "\n",
    "    #all_data = df1_transposed\n",
    "    all_data = all_data.append(df1_transposed, ignore_index = True)"
   ]
  },
  {
   "cell_type": "code",
   "execution_count": 5,
   "metadata": {},
   "outputs": [
    {
     "data": {
      "text/html": [
       "<div>\n",
       "<style scoped>\n",
       "    .dataframe tbody tr th:only-of-type {\n",
       "        vertical-align: middle;\n",
       "    }\n",
       "\n",
       "    .dataframe tbody tr th {\n",
       "        vertical-align: top;\n",
       "    }\n",
       "\n",
       "    .dataframe thead th {\n",
       "        text-align: right;\n",
       "    }\n",
       "</style>\n",
       "<table border=\"1\" class=\"dataframe\">\n",
       "  <thead>\n",
       "    <tr style=\"text-align: right;\">\n",
       "      <th></th>\n",
       "      <th>environmentScore</th>\n",
       "      <th>governanceScore</th>\n",
       "      <th>governancePercentile</th>\n",
       "      <th>pesticides</th>\n",
       "      <th>peerCount</th>\n",
       "      <th>adult</th>\n",
       "      <th>esgPerformance</th>\n",
       "      <th>socialPercentile</th>\n",
       "      <th>catholic</th>\n",
       "      <th>totalEsg</th>\n",
       "      <th>...</th>\n",
       "      <th>coal</th>\n",
       "      <th>socialScore</th>\n",
       "      <th>alcoholic</th>\n",
       "      <th>nuclear</th>\n",
       "      <th>smallArms</th>\n",
       "      <th>animalTesting</th>\n",
       "      <th>gambling</th>\n",
       "      <th>Stock Ticker</th>\n",
       "      <th>Sector</th>\n",
       "      <th>Name</th>\n",
       "    </tr>\n",
       "  </thead>\n",
       "  <tbody>\n",
       "    <tr>\n",
       "      <th>0</th>\n",
       "      <td>2.34</td>\n",
       "      <td>7.66</td>\n",
       "      <td>None</td>\n",
       "      <td>False</td>\n",
       "      <td>58</td>\n",
       "      <td>False</td>\n",
       "      <td>AVG_PERF</td>\n",
       "      <td>None</td>\n",
       "      <td>False</td>\n",
       "      <td>23.39</td>\n",
       "      <td>...</td>\n",
       "      <td>False</td>\n",
       "      <td>13.39</td>\n",
       "      <td>False</td>\n",
       "      <td>False</td>\n",
       "      <td>False</td>\n",
       "      <td>True</td>\n",
       "      <td>False</td>\n",
       "      <td>MDT</td>\n",
       "      <td>Health Care</td>\n",
       "      <td>Medtronic</td>\n",
       "    </tr>\n",
       "    <tr>\n",
       "      <th>1</th>\n",
       "      <td>13.09</td>\n",
       "      <td>6.75</td>\n",
       "      <td>None</td>\n",
       "      <td>False</td>\n",
       "      <td>94</td>\n",
       "      <td>False</td>\n",
       "      <td>OUT_PERF</td>\n",
       "      <td>None</td>\n",
       "      <td>False</td>\n",
       "      <td>34.47</td>\n",
       "      <td>...</td>\n",
       "      <td>False</td>\n",
       "      <td>14.63</td>\n",
       "      <td>False</td>\n",
       "      <td>False</td>\n",
       "      <td>False</td>\n",
       "      <td>True</td>\n",
       "      <td>False</td>\n",
       "      <td>KHC</td>\n",
       "      <td>Consumer Staples</td>\n",
       "      <td>Kraft Heinz</td>\n",
       "    </tr>\n",
       "  </tbody>\n",
       "</table>\n",
       "<p>2 rows × 30 columns</p>\n",
       "</div>"
      ],
      "text/plain": [
       "  environmentScore governanceScore governancePercentile pesticides peerCount  \\\n",
       "0             2.34            7.66                 None      False        58   \n",
       "1            13.09            6.75                 None      False        94   \n",
       "\n",
       "   adult esgPerformance socialPercentile catholic totalEsg  ...   coal  \\\n",
       "0  False       AVG_PERF             None    False    23.39  ...  False   \n",
       "1  False       OUT_PERF             None    False    34.47  ...  False   \n",
       "\n",
       "  socialScore alcoholic nuclear smallArms animalTesting gambling Stock Ticker  \\\n",
       "0       13.39     False   False     False          True    False          MDT   \n",
       "1       14.63     False   False     False          True    False          KHC   \n",
       "\n",
       "             Sector         Name  \n",
       "0       Health Care    Medtronic  \n",
       "1  Consumer Staples  Kraft Heinz  \n",
       "\n",
       "[2 rows x 30 columns]"
      ]
     },
     "execution_count": 5,
     "metadata": {},
     "output_type": "execute_result"
    }
   ],
   "source": [
    "all_data"
   ]
  },
  {
   "cell_type": "code",
   "execution_count": 7,
   "metadata": {},
   "outputs": [
    {
     "name": "stdout",
     "output_type": "stream",
     "text": [
      "ESG File has column headers.\n",
      "ESG Data has been entered.\n"
     ]
    }
   ],
   "source": [
    "if os.stat(FILE_PATH).st_size == 0:\n",
    "    CURRENT_CSV_FILE = 0\n",
    "    print('ESG File is empty')\n",
    "    f = open(FILE_PATH, 'w')\n",
    "    f.close\n",
    "\n",
    "    with open(FILE_PATH, 'a', newline='') as f_object: \n",
    "        writer_object = writer(f_object) # Pass the CSV  file object to the writer() function\n",
    "        writer_object.writerow(all_data) # Pass the data in the list as an argument into the writerow() function\n",
    "        f_object.close()\n",
    "    print('Column names have been entered.')\n",
    "\n",
    "else:\n",
    "    CURRENT_CSV_FILE = 1\n",
    "    print('ESG File has column headers.')\n",
    "    all_data.to_csv(FILE_PATH, mode='a', index=False, header=False)\n",
    "    print('ESG Data has been entered.')"
   ]
  },
  {
   "cell_type": "markdown",
   "metadata": {},
   "source": [
    "Download S&P 500 tickers from csv file: *tickers.csv*"
   ]
  },
  {
   "cell_type": "markdown",
   "metadata": {},
   "source": [
    "Get a random ticker from the dataset using *sample()*"
   ]
  },
  {
   "cell_type": "code",
   "execution_count": null,
   "metadata": {},
   "outputs": [],
   "source": [
    "\n",
    "def data_passer():\n",
    "    for x in range(2):\n",
    "        tic = df.sample(n=1) #get random ticker\n",
    "        ticker_sym = tic.loc[tic.index[0],'Symbol'] #get ticker symbol\n",
    "        ticker = yf.Ticker(ticker_sym) #define in yfinance\n",
    "        y = ticker.sustainability  #get \n",
    "        y.head()\n",
    "        df1_transposed = y.T\n",
    "\n",
    "        #y = y.rename(columns={'Value': ticker_sym})\n",
    "        #df2 = df1_transposed\n",
    "        #df2\n",
    "        print(ticker_sym)\n",
    "\n",
    "    return y\n"
   ]
  },
  {
   "cell_type": "markdown",
   "metadata": {},
   "source": [
    "Now, we want to write the data into the csv file to build up the database"
   ]
  },
  {
   "cell_type": "code",
   "execution_count": null,
   "metadata": {},
   "outputs": [],
   "source": [
    "import csv\n",
    "\n",
    "# open the file in the write mode\n",
    "f = open('/Users/MichaelCalmette/Documents/Finance Research/esg-data.csv', 'w')\n",
    "\n",
    "# create the csv writer\n",
    "writer = csv.writer(f)\n",
    "\n",
    "# write a row to the csv file\n",
    "writer.writerow(df1_transposed)\n",
    "\n",
    "# close the file\n",
    "f.close()"
   ]
  },
  {
   "cell_type": "code",
   "execution_count": null,
   "metadata": {},
   "outputs": [],
   "source": [
    "from csv import writer\n",
    "  \n",
    "# The data assigned to the list \n",
    "\n",
    "with open('data.csv', 'a', newline='') as f_object:  \n",
    "    writer_object = writer(f_object) # Pass the CSV  file object to the writer() function\n",
    "    writer_object.writerow(list_data) # Pass the data in the list as an argument into the writerow() function\n",
    "    f_object.close()\n",
    "\n",
    "\n",
    "#/Users/MichaelCalmette/Documents/Finance Research/ESG-yfinance.ipynb\n"
   ]
  },
  {
   "cell_type": "code",
   "execution_count": null,
   "metadata": {},
   "outputs": [],
   "source": []
  }
 ],
 "metadata": {
  "interpreter": {
   "hash": "aee8b7b246df8f9039afb4144a1f6fd8d2ca17a180786b69acc140d282b71a49"
  },
  "kernelspec": {
   "display_name": "Python 3.8.3 64-bit",
   "language": "python",
   "name": "python3"
  },
  "language_info": {
   "codemirror_mode": {
    "name": "ipython",
    "version": 3
   },
   "file_extension": ".py",
   "mimetype": "text/x-python",
   "name": "python",
   "nbconvert_exporter": "python",
   "pygments_lexer": "ipython3",
   "version": "3.8.3"
  },
  "orig_nbformat": 4
 },
 "nbformat": 4,
 "nbformat_minor": 2
}
